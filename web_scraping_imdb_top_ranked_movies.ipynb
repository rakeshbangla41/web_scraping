{
 "cells": [
  {
   "cell_type": "code",
   "execution_count": 1,
   "id": "672fe525",
   "metadata": {},
   "outputs": [],
   "source": [
    "# importing libraries needed for web scraping and then to store the collected\n",
    "# data into an excel file\n",
    "\n",
    "import requests # to access the website/webpage\n",
    "from bs4 import BeautifulSoup # to parse the HTML source code of the webpage\n",
    "import openpyxl # to save the collected raw data into an excel file\n",
    "import pandas as pd # for data analysis"
   ]
  },
  {
   "cell_type": "code",
   "execution_count": 2,
   "id": "27873da4",
   "metadata": {},
   "outputs": [],
   "source": [
    "excel = openpyxl.Workbook() # creating an excel file\n",
    "#excel.sheetnames # sheets present in the excel file created\n",
    "sheet = excel.active # to make the relevant sheet active for loading data \n",
    "sheet.title = 'IMDB Top 250 Movies' #renaming the sheet\n",
    "sheet.append(['Movie Rank', 'Movie Name', 'Year of Release', 'IMDB Rating'])\n",
    "# appending column names into the sheet"
   ]
  },
  {
   "cell_type": "code",
   "execution_count": 3,
   "id": "c91a728a",
   "metadata": {},
   "outputs": [],
   "source": [
    "try:\n",
    "    source = requests.get('https://www.imdb.com/chart/top/') \n",
    "    # to generate a response object which is stored in 'source' variable\n",
    "    # this contains some components of the webpage along with its HTML code\n",
    "    \n",
    "    source.raise_for_status() # to capture/throw an error if the webpage we\n",
    "                              # are trying to access has any issue\n",
    "        \n",
    "    parsed_html_code = BeautifulSoup(source.text, 'html.parser')\n",
    "    # to capture the HTML code(.text), parsing it and then storing it in\n",
    "    # the variable\n",
    "    \n",
    "    # finding and parsing HTML tags and their corresponding class to extract\n",
    "    # the required data\n",
    "    \n",
    "    movies = parsed_html_code.find('tbody', class_ = \"lister-list\").find_all('tr') \n",
    "    # each 'tr' tag contains the data about one movie                                            \n",
    "    \n",
    "    for movie in movies:\n",
    "        \n",
    "        rank = movie.find('td', class_ = \"titleColumn\").get_text(strip=True).split('.')[0]\n",
    "        \n",
    "        name = movie.find('td', class_ = \"titleColumn\").find('a').text\n",
    "              \n",
    "        year = movie.find('td', class_ = \"titleColumn\").find('span', class_ = \"secondaryInfo\").text.strip(\"(\").strip(\")\")\n",
    "        \n",
    "        rating = movie.find('td', class_ = \"ratingColumn imdbRating\").find('strong').text\n",
    "        \n",
    "        sheet.append([rank, name, year, rating])\n",
    "    \n",
    "\n",
    "except Exception as e:\n",
    "    print(e)\n",
    "    \n",
    "\n",
    "excel.save('IMDB Top 250 Movies.xlsx')"
   ]
  },
  {
   "cell_type": "code",
   "execution_count": 4,
   "id": "726586bb",
   "metadata": {},
   "outputs": [],
   "source": [
    "top_250_imdb_movies = pd.read_excel('IMDB Top 250 Movies.xlsx')"
   ]
  },
  {
   "cell_type": "code",
   "execution_count": 5,
   "id": "b5412230",
   "metadata": {},
   "outputs": [
    {
     "data": {
      "text/html": [
       "<div>\n",
       "<style scoped>\n",
       "    .dataframe tbody tr th:only-of-type {\n",
       "        vertical-align: middle;\n",
       "    }\n",
       "\n",
       "    .dataframe tbody tr th {\n",
       "        vertical-align: top;\n",
       "    }\n",
       "\n",
       "    .dataframe thead th {\n",
       "        text-align: right;\n",
       "    }\n",
       "</style>\n",
       "<table border=\"1\" class=\"dataframe\">\n",
       "  <thead>\n",
       "    <tr style=\"text-align: right;\">\n",
       "      <th></th>\n",
       "      <th>Movie Rank</th>\n",
       "      <th>Movie Name</th>\n",
       "      <th>Year of Release</th>\n",
       "      <th>IMDB Rating</th>\n",
       "    </tr>\n",
       "  </thead>\n",
       "  <tbody>\n",
       "    <tr>\n",
       "      <th>0</th>\n",
       "      <td>1</td>\n",
       "      <td>The Shawshank Redemption</td>\n",
       "      <td>1994</td>\n",
       "      <td>9.2</td>\n",
       "    </tr>\n",
       "    <tr>\n",
       "      <th>1</th>\n",
       "      <td>2</td>\n",
       "      <td>The Godfather</td>\n",
       "      <td>1972</td>\n",
       "      <td>9.2</td>\n",
       "    </tr>\n",
       "    <tr>\n",
       "      <th>2</th>\n",
       "      <td>3</td>\n",
       "      <td>The Dark Knight</td>\n",
       "      <td>2008</td>\n",
       "      <td>9.0</td>\n",
       "    </tr>\n",
       "    <tr>\n",
       "      <th>3</th>\n",
       "      <td>4</td>\n",
       "      <td>The Godfather Part II</td>\n",
       "      <td>1974</td>\n",
       "      <td>9.0</td>\n",
       "    </tr>\n",
       "    <tr>\n",
       "      <th>4</th>\n",
       "      <td>5</td>\n",
       "      <td>12 Angry Men</td>\n",
       "      <td>1957</td>\n",
       "      <td>8.9</td>\n",
       "    </tr>\n",
       "    <tr>\n",
       "      <th>...</th>\n",
       "      <td>...</td>\n",
       "      <td>...</td>\n",
       "      <td>...</td>\n",
       "      <td>...</td>\n",
       "    </tr>\n",
       "    <tr>\n",
       "      <th>245</th>\n",
       "      <td>246</td>\n",
       "      <td>Aladdin</td>\n",
       "      <td>1992</td>\n",
       "      <td>8.0</td>\n",
       "    </tr>\n",
       "    <tr>\n",
       "      <th>246</th>\n",
       "      <td>247</td>\n",
       "      <td>Jai Bhim</td>\n",
       "      <td>2021</td>\n",
       "      <td>8.0</td>\n",
       "    </tr>\n",
       "    <tr>\n",
       "      <th>247</th>\n",
       "      <td>248</td>\n",
       "      <td>Gandhi</td>\n",
       "      <td>1982</td>\n",
       "      <td>8.0</td>\n",
       "    </tr>\n",
       "    <tr>\n",
       "      <th>248</th>\n",
       "      <td>249</td>\n",
       "      <td>The Help</td>\n",
       "      <td>2011</td>\n",
       "      <td>8.0</td>\n",
       "    </tr>\n",
       "    <tr>\n",
       "      <th>249</th>\n",
       "      <td>250</td>\n",
       "      <td>Beauty and the Beast</td>\n",
       "      <td>1991</td>\n",
       "      <td>8.0</td>\n",
       "    </tr>\n",
       "  </tbody>\n",
       "</table>\n",
       "<p>250 rows × 4 columns</p>\n",
       "</div>"
      ],
      "text/plain": [
       "     Movie Rank                Movie Name  Year of Release  IMDB Rating\n",
       "0             1  The Shawshank Redemption             1994          9.2\n",
       "1             2             The Godfather             1972          9.2\n",
       "2             3           The Dark Knight             2008          9.0\n",
       "3             4     The Godfather Part II             1974          9.0\n",
       "4             5              12 Angry Men             1957          8.9\n",
       "..          ...                       ...              ...          ...\n",
       "245         246                   Aladdin             1992          8.0\n",
       "246         247                  Jai Bhim             2021          8.0\n",
       "247         248                    Gandhi             1982          8.0\n",
       "248         249                  The Help             2011          8.0\n",
       "249         250      Beauty and the Beast             1991          8.0\n",
       "\n",
       "[250 rows x 4 columns]"
      ]
     },
     "execution_count": 5,
     "metadata": {},
     "output_type": "execute_result"
    }
   ],
   "source": [
    "top_250_imdb_movies"
   ]
  },
  {
   "cell_type": "code",
   "execution_count": 17,
   "id": "d9c2a0f6",
   "metadata": {},
   "outputs": [
    {
     "data": {
      "text/plain": [
       "Movie Rank           int64\n",
       "Movie Name          object\n",
       "Year of Release      int64\n",
       "IMDB Rating        float64\n",
       "dtype: object"
      ]
     },
     "execution_count": 17,
     "metadata": {},
     "output_type": "execute_result"
    }
   ],
   "source": [
    "top_250_imdb_movies.dtypes"
   ]
  },
  {
   "cell_type": "code",
   "execution_count": null,
   "id": "2d13dfa5",
   "metadata": {},
   "outputs": [],
   "source": []
  }
 ],
 "metadata": {
  "kernelspec": {
   "display_name": "Python 3",
   "language": "python",
   "name": "python3"
  },
  "language_info": {
   "codemirror_mode": {
    "name": "ipython",
    "version": 3
   },
   "file_extension": ".py",
   "mimetype": "text/x-python",
   "name": "python",
   "nbconvert_exporter": "python",
   "pygments_lexer": "ipython3",
   "version": "3.8.8"
  }
 },
 "nbformat": 4,
 "nbformat_minor": 5
}
